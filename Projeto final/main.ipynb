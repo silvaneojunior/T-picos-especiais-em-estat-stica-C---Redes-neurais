{
 "cells": [
  {
   "cell_type": "code",
   "execution_count": 1,
   "id": "156cd2fa",
   "metadata": {},
   "outputs": [],
   "source": [
    "import numpy as np\n",
    "import tensorflow as tf\n",
    "import matplotlib.pyplot as plt\n",
    "\n",
    "float_type='float32'\n",
    "\n",
    "gpus= tf.config.experimental.list_physical_devices('GPU')\n",
    "tf.config.experimental.set_memory_growth(gpus[0], True)"
   ]
  },
  {
   "cell_type": "code",
   "execution_count": 2,
   "id": "23a68d76",
   "metadata": {},
   "outputs": [
    {
     "name": "stdout",
     "output_type": "stream",
     "text": [
      "(240000, 784)\n",
      "(240000,)\n",
      "(240000, 10)\n",
      "(10000, 784)\n",
      "(10000,)\n",
      "(10000, 10)\n",
      "(10000, 784)\n",
      "(10000,)\n",
      "(10000, 10)\n"
     ]
    }
   ],
   "source": [
    "from import_mnist import *\n",
    "\n",
    "val_x=data_x[-10000:]\n",
    "val_y=data_y[-10000:]\n",
    "val_l=data_l[-10000:]\n",
    "data_x=data_x[:-10000]\n",
    "data_y=data_y[:-10000]\n",
    "data_l=data_l[:-10000]\n",
    "\n",
    "print(data_x.shape)\n",
    "print(data_y.shape)\n",
    "print(data_l.shape)\n",
    "\n",
    "print(val_x.shape)\n",
    "print(val_y.shape)\n",
    "print(val_l.shape)\n",
    "\n",
    "print(test_x.shape)\n",
    "print(test_y.shape)\n",
    "print(test_l.shape)\n",
    "\n",
    "mean=tf.math.reduce_mean(np.arcsin(data_x**0.5),axis=0,keepdims=True).numpy()\n",
    "std=tf.math.reduce_std(np.arcsin(data_x**0.5),axis=0,keepdims=True).numpy()\n",
    "\n",
    "transf=lambda x: (np.arcsin(x**0.5)-mean)/(std+10**-20)\n",
    "destransf=lambda x: np.sin(x*(std+10**-20)+mean)**2\n",
    "\n",
    "data_x=transf(data_x)\n",
    "val_x=transf(val_x)\n",
    "test_x=transf(test_x)"
   ]
  },
  {
   "cell_type": "code",
   "execution_count": 19,
   "id": "0b8c226a",
   "metadata": {},
   "outputs": [],
   "source": [
    "wei_reg=tf.keras.regularizers.L2(0*10**-3)\n",
    "enc_reg=tf.keras.regularizers.L2(0*10**-1)\n",
    "\n",
    "# zero=10**(-5)\n",
    "# def enc_reg(x):\n",
    "#     return -0.01 * tf.math.reduce_sum(0.001*tf.math.log(x+zero)+0.999*tf.math.log(1-x+zero))\n",
    "    \n",
    "    \n",
    "mid_act='elu'\n",
    "enc_act='linear'\n",
    "end_act='linear'\n",
    "\n",
    "loss=tf.keras.losses.MeanSquaredError()\n",
    "#loss=tf.keras.losses.BinaryCrossentropy()\n",
    "#loss=tf.keras.losses.BinaryCrossentropy()\n",
    "metrics=['accuracy']\n",
    "optimizer = tf.keras.optimizers.Adam(learning_rate=10**-3, beta_1=0.9, beta_2=0.999, clipnorm=1.0)\n",
    "\n",
    "layers_encode=[\n",
    "    tf.keras.layers.Reshape(           [28,28,1]                                                        ),\n",
    "    tf.keras.layers.Conv2D(         32,[3,3], activation=mid_act,             kernel_regularizer=wei_reg),\n",
    "    tf.keras.layers.AveragePooling2D(  [2,2]                                                            ),\n",
    "    tf.keras.layers.Conv2D(         16,[4,4], activation=mid_act,             kernel_regularizer=wei_reg),\n",
    "    tf.keras.layers.AveragePooling2D(  [2,2]                                                            ),\n",
    "    tf.keras.layers.Flatten(                                                                            ),\n",
    "    tf.keras.layers.Dense(          256,      activation=mid_act,             kernel_regularizer=wei_reg),\n",
    "    tf.keras.layers.Dense(          5,        activation=enc_act,             kernel_regularizer=wei_reg,  activity_regularizer=enc_reg)\n",
    "]\n",
    "layers_decode=[\n",
    "    tf.keras.layers.Dense(          256,    activation=mid_act,              kernel_regularizer=wei_reg),\n",
    "    tf.keras.layers.Dense(          5*5*16,   activation=mid_act,              kernel_regularizer=wei_reg),\n",
    "    tf.keras.layers.Reshape(           [5,5,16]                                                          ),\n",
    "    tf.keras.layers.Conv2DTranspose(32,[5,5], strides=(2,2), activation=mid_act,              kernel_regularizer=wei_reg),\n",
    "    tf.keras.layers.Conv2DTranspose(1,[4,4], strides=(2,2), activation=mid_act,kernel_regularizer=wei_reg),\n",
    "    tf.keras.layers.Conv2DTranspose(1,[1,1], strides=(1,1), activation=end_act,kernel_regularizer=wei_reg),\n",
    "    tf.keras.layers.Flatten()\n",
    "]\n",
    "\n",
    "# layers_encode=[\n",
    "#     tf.keras.layers.Dense(512, activation=mid_act,kernel_regularizer=wei_reg),\n",
    "#     tf.keras.layers.Dense(256, activation=mid_act,kernel_regularizer=wei_reg),\n",
    "#     tf.keras.layers.Dense(2,activity_regularizer=enc_reg)\n",
    "# ]\n",
    "# layers_decode=[\n",
    "#     #tf.keras.layers.Dense(256, activation=mid_act,kernel_regularizer=wei_reg),\n",
    "#     #tf.keras.layers.Dense(16, activation=mid_act,kernel_regularizer=wei_reg),\n",
    "#     tf.keras.layers.Dense(16, activation=mid_act,kernel_regularizer=wei_reg),\n",
    "#     tf.keras.layers.Dense(10, activation=end_act,kernel_regularizer=wei_reg)\n",
    "# ]\n",
    "\n",
    "enc_x=tf.keras.layers.Input([28*28])\n",
    "dec_x=tf.keras.layers.Input([5])\n",
    "\n",
    "encode=enc_x\n",
    "for layer in layers_encode:\n",
    "    encode=layer(encode)\n",
    "    \n",
    "decode_full=encode\n",
    "decode_part=dec_x\n",
    "for layer in layers_decode:\n",
    "    decode_full=layer(decode_full)\n",
    "    decode_part=layer(decode_part)\n",
    "\n",
    "Encoder=tf.keras.Model(enc_x, encode)\n",
    "Decoder=tf.keras.Model(dec_x, decode_part)\n",
    "Network=tf.keras.Model(enc_x, decode_full)\n",
    "\n",
    "Encoder.compile(loss=loss,\n",
    "              optimizer=optimizer,\n",
    "              metrics=metrics)\n",
    "Decoder.compile(loss=loss,\n",
    "              optimizer=optimizer,\n",
    "              metrics=metrics)\n",
    "Network.compile(loss=loss,\n",
    "              optimizer=optimizer,\n",
    "              metrics=metrics)"
   ]
  },
  {
   "cell_type": "code",
   "execution_count": 20,
   "id": "c35e432a",
   "metadata": {},
   "outputs": [],
   "source": [
    "def scheduler(epoch, lr):\n",
    "    if epoch < 5:\n",
    "        return 10**-2\n",
    "    elif epoch<20:\n",
    "        return 10**-3\n",
    "    else:\n",
    "        return 10**-4\n",
    "callbacks = [tf.keras.callbacks.LearningRateScheduler(scheduler)]"
   ]
  },
  {
   "cell_type": "code",
   "execution_count": 31,
   "id": "e0c1fc7c",
   "metadata": {},
   "outputs": [
    {
     "name": "stdout",
     "output_type": "stream",
     "text": [
      "7500/7500 [==============================] - 16s 2ms/step - loss: 0.0223 - accuracy: 0.9922\n"
     ]
    },
    {
     "data": {
      "text/plain": [
       "[0.022280031815171242, 0.9921583533287048]"
      ]
     },
     "execution_count": 31,
     "metadata": {},
     "output_type": "execute_result"
    }
   ],
   "source": [
    "Network.evaluate(data_x,data_l)"
   ]
  },
  {
   "cell_type": "code",
   "execution_count": 32,
   "id": "0683bd86",
   "metadata": {},
   "outputs": [
    {
     "name": "stdout",
     "output_type": "stream",
     "text": [
      "313/313 [==============================] - 1s 2ms/step - loss: 0.0251 - accuracy: 0.9872\n"
     ]
    },
    {
     "data": {
      "text/plain": [
       "[0.02507846988737583, 0.9872000217437744]"
      ]
     },
     "execution_count": 32,
     "metadata": {},
     "output_type": "execute_result"
    }
   ],
   "source": [
    "Network.evaluate(val_x,val_l)"
   ]
  },
  {
   "cell_type": "code",
   "execution_count": 33,
   "id": "628100cb",
   "metadata": {},
   "outputs": [
    {
     "name": "stdout",
     "output_type": "stream",
     "text": [
      "313/313 [==============================] - 1s 2ms/step - loss: 0.0287 - accuracy: 0.9830\n"
     ]
    },
    {
     "data": {
      "text/plain": [
       "[0.02874305099248886, 0.9829999804496765]"
      ]
     },
     "execution_count": 33,
     "metadata": {},
     "output_type": "execute_result"
    }
   ],
   "source": [
    "Network.evaluate(test_x,test_l)"
   ]
  },
  {
   "cell_type": "code",
   "execution_count": 21,
   "id": "fb793635",
   "metadata": {},
   "outputs": [
    {
     "name": "stdout",
     "output_type": "stream",
     "text": [
      "Epoch 1/30\n",
      "469/469 [==============================] - 9s 15ms/step - loss: 0.6129 - accuracy: 0.0506 - val_loss: 0.5392 - val_accuracy: 0.1032\n",
      "Epoch 2/30\n",
      "469/469 [==============================] - 6s 14ms/step - loss: 0.5219 - accuracy: 0.1430 - val_loss: 0.5017 - val_accuracy: 0.2096\n",
      "Epoch 3/30\n",
      "469/469 [==============================] - 6s 14ms/step - loss: 0.5026 - accuracy: 0.1928 - val_loss: 0.4911 - val_accuracy: 0.1835\n",
      "Epoch 4/30\n",
      "469/469 [==============================] - 7s 14ms/step - loss: 0.4864 - accuracy: 0.2215 - val_loss: 0.4711 - val_accuracy: 0.2717\n",
      "Epoch 5/30\n",
      "469/469 [==============================] - 6s 14ms/step - loss: 0.4771 - accuracy: 0.2373 - val_loss: 0.4903 - val_accuracy: 0.2462\n",
      "Epoch 6/30\n",
      "469/469 [==============================] - 6s 14ms/step - loss: 0.4363 - accuracy: 0.2843 - val_loss: 0.4340 - val_accuracy: 0.2935\n",
      "Epoch 7/30\n",
      "469/469 [==============================] - 6s 14ms/step - loss: 0.4298 - accuracy: 0.2962 - val_loss: 0.4305 - val_accuracy: 0.2955\n",
      "Epoch 8/30\n",
      "469/469 [==============================] - 6s 14ms/step - loss: 0.4264 - accuracy: 0.3016 - val_loss: 0.4279 - val_accuracy: 0.3029\n",
      "Epoch 9/30\n",
      "469/469 [==============================] - 6s 14ms/step - loss: 0.4232 - accuracy: 0.3070 - val_loss: 0.4245 - val_accuracy: 0.3077\n",
      "Epoch 10/30\n",
      "469/469 [==============================] - 7s 14ms/step - loss: 0.4198 - accuracy: 0.3110 - val_loss: 0.4219 - val_accuracy: 0.3172\n",
      "Epoch 11/30\n",
      "469/469 [==============================] - 6s 14ms/step - loss: 0.4169 - accuracy: 0.3150 - val_loss: 0.4184 - val_accuracy: 0.3135\n",
      "Epoch 12/30\n",
      "469/469 [==============================] - 7s 14ms/step - loss: 0.4137 - accuracy: 0.3183 - val_loss: 0.4149 - val_accuracy: 0.3239\n",
      "Epoch 13/30\n",
      "469/469 [==============================] - 6s 14ms/step - loss: 0.4107 - accuracy: 0.3223 - val_loss: 0.4120 - val_accuracy: 0.3190\n",
      "Epoch 14/30\n",
      "469/469 [==============================] - 7s 14ms/step - loss: 0.4081 - accuracy: 0.3248 - val_loss: 0.4105 - val_accuracy: 0.3178\n",
      "Epoch 15/30\n",
      "469/469 [==============================] - 7s 15ms/step - loss: 0.4056 - accuracy: 0.3276 - val_loss: 0.4080 - val_accuracy: 0.3342\n",
      "Epoch 16/30\n",
      "469/469 [==============================] - 8s 16ms/step - loss: 0.4033 - accuracy: 0.3295 - val_loss: 0.4060 - val_accuracy: 0.3307\n",
      "Epoch 17/30\n",
      "469/469 [==============================] - 8s 17ms/step - loss: 0.4009 - accuracy: 0.3325 - val_loss: 0.4048 - val_accuracy: 0.3266\n",
      "Epoch 18/30\n",
      "469/469 [==============================] - 8s 17ms/step - loss: 0.3992 - accuracy: 0.3332 - val_loss: 0.4044 - val_accuracy: 0.3227\n",
      "Epoch 19/30\n",
      "469/469 [==============================] - 7s 15ms/step - loss: 0.3967 - accuracy: 0.3364 - val_loss: 0.4009 - val_accuracy: 0.3498\n",
      "Epoch 20/30\n",
      "469/469 [==============================] - 7s 16ms/step - loss: 0.3946 - accuracy: 0.3395 - val_loss: 0.3982 - val_accuracy: 0.3364\n",
      "Epoch 21/30\n",
      "469/469 [==============================] - 8s 16ms/step - loss: 0.3893 - accuracy: 0.3456 - val_loss: 0.3943 - val_accuracy: 0.3423\n",
      "Epoch 22/30\n",
      "469/469 [==============================] - 7s 15ms/step - loss: 0.3886 - accuracy: 0.3462 - val_loss: 0.3941 - val_accuracy: 0.3420\n",
      "Epoch 23/30\n",
      "469/469 [==============================] - 7s 16ms/step - loss: 0.3882 - accuracy: 0.3464 - val_loss: 0.3937 - val_accuracy: 0.3429\n",
      "Epoch 24/30\n",
      "469/469 [==============================] - 7s 15ms/step - loss: 0.3879 - accuracy: 0.3475 - val_loss: 0.3935 - val_accuracy: 0.3446\n",
      "Epoch 25/30\n",
      "469/469 [==============================] - 8s 16ms/step - loss: 0.3875 - accuracy: 0.3475 - val_loss: 0.3931 - val_accuracy: 0.3438\n",
      "Epoch 26/30\n",
      "469/469 [==============================] - 7s 14ms/step - loss: 0.3872 - accuracy: 0.3477 - val_loss: 0.3929 - val_accuracy: 0.3409\n",
      "Epoch 27/30\n",
      "469/469 [==============================] - 7s 16ms/step - loss: 0.3868 - accuracy: 0.3485 - val_loss: 0.3924 - val_accuracy: 0.3403\n",
      "Epoch 28/30\n",
      "469/469 [==============================] - 7s 15ms/step - loss: 0.3864 - accuracy: 0.3485 - val_loss: 0.3920 - val_accuracy: 0.3420\n",
      "Epoch 29/30\n",
      "469/469 [==============================] - 8s 17ms/step - loss: 0.3860 - accuracy: 0.3485 - val_loss: 0.3917 - val_accuracy: 0.3395\n",
      "Epoch 30/30\n",
      "469/469 [==============================] - 8s 16ms/step - loss: 0.3856 - accuracy: 0.3490 - val_loss: 0.3914 - val_accuracy: 0.3463\n",
      "INFO:tensorflow:Assets written to: Network Model2_1\\assets\n",
      "INFO:tensorflow:Assets written to: Encoder Model2_1\\assets\n",
      "INFO:tensorflow:Assets written to: Decoder Model2_1\\assets\n"
     ]
    }
   ],
   "source": [
    "Model_name='Model2_1'\n",
    "\n",
    "Network.fit(data_x,data_x,\n",
    "                    epochs=30,\n",
    "                    batch_size=512,\n",
    "                    validation_data=(val_x,val_x),\n",
    "           callbacks=callbacks)\n",
    "\n",
    "Network.save('Network '+Model_name)\n",
    "Encoder.save('Encoder '+Model_name)\n",
    "Decoder.save('Decoder '+Model_name)"
   ]
  },
  {
   "cell_type": "code",
   "execution_count": 12,
   "id": "470da7d1",
   "metadata": {},
   "outputs": [],
   "source": [
    "#Model_name='Model1_final'\n",
    "#Model_name='TooBounded'\n",
    "#Model_name='Unbound1'\n",
    "Model_name='Model2_1'\n",
    "\n",
    "Network=tf.keras.models.load_model('Network '+Model_name)\n",
    "Encoder=tf.keras.models.load_model('Encoder '+Model_name)\n",
    "Decoder=tf.keras.models.load_model('Decoder '+Model_name)"
   ]
  },
  {
   "cell_type": "code",
   "execution_count": 13,
   "id": "8490a875",
   "metadata": {},
   "outputs": [],
   "source": [
    "coded_test=Encoder.predict(test_x)"
   ]
  },
  {
   "cell_type": "code",
   "execution_count": 14,
   "id": "b11fb7aa",
   "metadata": {},
   "outputs": [],
   "source": [
    "from sklearn.decomposition import FactorAnalysis\n",
    "\n",
    "factanal=FactorAnalysis(2)\n",
    "\n",
    "factanal.fit_transform(coded_test)\n",
    "\n",
    "coded_test=factanal.transform(coded_test)"
   ]
  },
  {
   "cell_type": "code",
   "execution_count": 37,
   "id": "1df7cc28",
   "metadata": {},
   "outputs": [],
   "source": [
    "if Model_name=='Model2_10':\n",
    "    plt.figure(figsize=(6.4*1,6.4*1))\n",
    "\n",
    "    teste=np.zeros([1,10],dtype=float_type)\n",
    "    teste[0,9]=1\n",
    "\n",
    "    fig=plt.imshow(destransf(Decoder.predict(teste)).reshape([28,28]),cmap='Greys')\n",
    "    fig.axes.get_xaxis().set_visible(False)\n",
    "    fig.axes.get_yaxis().set_visible(False)\n",
    "\n",
    "    plt.show()"
   ]
  },
  {
   "cell_type": "code",
   "execution_count": 15,
   "id": "243690d9",
   "metadata": {},
   "outputs": [],
   "source": [
    "coded_test=tf.concat([coded_test,tf.cast(tf.expand_dims(test_y,1),float_type)],axis=1).numpy()"
   ]
  },
  {
   "cell_type": "code",
   "execution_count": 16,
   "id": "f1f161ba",
   "metadata": {},
   "outputs": [],
   "source": [
    "indices=[]\n",
    "counts={i:0 for i in range(10)}\n",
    "probs={}\n",
    "total=0\n",
    "for i in range(coded_test.shape[0]):\n",
    "    if counts[np.round(coded_test[i,2])]<5:\n",
    "        counts[np.round(coded_test[i,2])]+=1\n",
    "        indices.append(i)\n",
    "        total+=1\n",
    "    if total==50:\n",
    "        break"
   ]
  },
  {
   "cell_type": "code",
   "execution_count": 17,
   "id": "23f8512e",
   "metadata": {},
   "outputs": [
    {
     "name": "stderr",
     "output_type": "stream",
     "text": [
      "C:\\ProgramData\\Miniconda3\\lib\\site-packages\\plotnine\\ggplot.py:719: PlotnineWarning: Saving 6.4 x 4.8 in image.\n",
      "C:\\ProgramData\\Miniconda3\\lib\\site-packages\\plotnine\\ggplot.py:722: PlotnineWarning: Filename: Modelo final completo.png\n"
     ]
    },
    {
     "data": {
      "image/png": "[encoded data removed]",
      "text/plain": [
       "<Figure size 640x480 with 1 Axes>"
      ]
     },
     "metadata": {},
     "output_type": "display_data"
    },
    {
     "data": {
      "text/plain": [
       "<ggplot: (143121783742)>"
      ]
     },
     "execution_count": 17,
     "metadata": {},
     "output_type": "execute_result"
    }
   ],
   "source": [
    "from plotnine import ggplot, aes, geom_line,geom_point,theme_bw,scale_color_hue,ggsave,geom_label\n",
    "\n",
    "sample=coded_test[indices]\n",
    "#sample=coded_test\n",
    "n=50\n",
    "nugde=np.max(np.abs(sample))*0.01/3\n",
    "\n",
    "plot=ggplot() +\\\n",
    "geom_point(aes(x=sample[:,0], y=sample[:,1], color=np.round(sample[:,2]).astype('int32').astype('str')),alpha=0.5) +\\\n",
    "geom_label(aes(x=sample[:,0]+nugde, y=sample[:,1]+nugde, label=sample[:,2].astype('int32').astype('str')),alpha=0.5,size=4) +\\\n",
    "scale_color_hue(name=' ')+\\\n",
    "theme_bw()\n",
    "\n",
    "ggsave(plot=plot, filename=Model_name+'.png', dpi=200)\n",
    "\n",
    "ggplot() +\\\n",
    "geom_point(aes(x=sample[:,0], y=sample[:,1], color=np.round(sample[:,2]).astype('int32').astype('str')),alpha=0.5) +\\\n",
    "scale_color_hue(name=' ')+\\\n",
    "theme_bw()"
   ]
  },
  {
   "cell_type": "code",
   "execution_count": null,
   "id": "39dd48a8",
   "metadata": {},
   "outputs": [],
   "source": [
    "plt.figure(figsize=(6.4*5,6.4*2))\n",
    "\n",
    "for i in range(10):\n",
    "    ref=coded_test[teste_y==i]\n",
    "    media=np.mean(ref,axis=0,keepdims=True)\n",
    "    cov=np.cov(ref,rowvar=False)\n",
    "    for j in range(3)\n",
    "        noise=random.multivariate_normal(media, cov)\n",
    "        sample=media+noise\n",
    "        fig=plt.imshow(destransf(Decoder.predict(teste)).reshape([28,28]),cmap='Greys')\n",
    "        fig.axes.get_xaxis().set_visible(False)\n",
    "        fig.axes.get_yaxis().set_visible(False)\n",
    "    \n",
    "plt.savefig('Encoded_values_10.png')"
   ]
  },
  {
   "cell_type": "code",
   "execution_count": 39,
   "id": "8fd10b4c",
   "metadata": {},
   "outputs": [
    {
     "data": {
      "image/png": "[encoded data removed]",
      "text/plain": [
       "<Figure size 2304x921.6 with 10 Axes>"
      ]
     },
     "metadata": {
      "needs_background": "light"
     },
     "output_type": "display_data"
    }
   ],
   "source": [
    "plt.figure(figsize=(6.4*5,6.4*2))\n",
    "\n",
    "for i in range(10):\n",
    "    \n",
    "    teste=np.zeros([1,10],dtype=float_type)\n",
    "    teste[0,i]=1\n",
    "    plt.subplot(2, 5, i+1)\n",
    "    fig=plt.imshow(destransf(Decoder.predict(teste)).reshape([28,28]),cmap='Greys')\n",
    "    fig.axes.get_xaxis().set_visible(False)\n",
    "    fig.axes.get_yaxis().set_visible(False)\n",
    "    \n",
    "plt.savefig('Encoded_values_10.png')"
   ]
  },
  {
   "cell_type": "code",
   "execution_count": 83,
   "id": "2f1a1f69",
   "metadata": {},
   "outputs": [
    {
     "data": {
      "image/png": "[encoded data removed]",
      "text/plain": [
       "<Figure size 2304x921.6 with 10 Axes>"
      ]
     },
     "metadata": {
      "needs_background": "light"
     },
     "output_type": "display_data"
    }
   ],
   "source": [
    "plt.figure(figsize=(6.4*5,6.4*2))\n",
    "\n",
    "for i in range(5):\n",
    "    plt.subplot(2, 5, i+1)\n",
    "    fig=plt.imshow(destransf(test_x[i]).reshape([28,28]),cmap='Greys')\n",
    "    fig.axes.get_xaxis().set_visible(False)\n",
    "    fig.axes.get_yaxis().set_visible(False)\n",
    "    \n",
    "    plt.subplot(2, 5, i+6)\n",
    "    fig=plt.imshow(destransf(Network.predict(test_x[i:i+1])).reshape([28,28]),cmap='Greys')\n",
    "    fig.axes.get_xaxis().set_visible(False)\n",
    "    fig.axes.get_yaxis().set_visible(False)\n",
    "    \n",
    "plt.savefig('Encoded_model1.png')"
   ]
  },
  {
   "cell_type": "code",
   "execution_count": 9,
   "id": "b0cbb581",
   "metadata": {},
   "outputs": [
    {
     "data": {
      "text/plain": [
       "array([[ 1.0773971 , -0.42692664],\n",
       "       [ 0.90830123,  4.35052   ],\n",
       "       [ 0.03334659, -0.1014303 ],\n",
       "       ...,\n",
       "       [ 0.41216826, -0.35248008],\n",
       "       [-2.2212439 , -4.737972  ],\n",
       "       [-1.7240053 ,  0.911348  ]], dtype=float32)"
      ]
     },
     "execution_count": 9,
     "metadata": {},
     "output_type": "execute_result"
    }
   ],
   "source": [
    "Encoder.predict(test_x)"
   ]
  },
  {
   "cell_type": "code",
   "execution_count": 10,
   "id": "d8c74117",
   "metadata": {},
   "outputs": [
    {
     "data": {
      "text/plain": [
       "array([7., 2., 1., 0., 4., 1., 4., 9., 5., 9., 0., 6., 9., 0., 1., 5., 9.,\n",
       "       7., 3., 4., 9., 6., 6., 5., 4., 0., 7., 4., 0., 1., 3., 1., 3., 4.,\n",
       "       7., 2., 7., 1., 2., 1., 1., 7., 4., 2., 3., 5., 1., 2., 4., 4.],\n",
       "      dtype=float32)"
      ]
     },
     "execution_count": 10,
     "metadata": {},
     "output_type": "execute_result"
    }
   ],
   "source": [
    "coded_test[:n,2]"
   ]
  },
  {
   "cell_type": "code",
   "execution_count": null,
   "id": "59d7907b",
   "metadata": {},
   "outputs": [],
   "source": []
  }
 ],
 "metadata": {
  "kernelspec": {
   "display_name": "Python 3",
   "language": "python",
   "name": "python3"
  },
  "language_info": {
   "codemirror_mode": {
    "name": "ipython",
    "version": 3
   },
   "file_extension": ".py",
   "mimetype": "text/x-python",
   "name": "python",
   "nbconvert_exporter": "python",
   "pygments_lexer": "ipython3",
   "version": "3.8.10"
  },
  "widgets": {
   "application/vnd.jupyter.widget-state+json": {
    "state": {},
    "version_major": 2,
    "version_minor": 0
   }
  }
 },
 "nbformat": 4,
 "nbformat_minor": 5
}
